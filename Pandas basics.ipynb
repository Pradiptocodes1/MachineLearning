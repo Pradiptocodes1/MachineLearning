{
 "cells": [
  {
   "cell_type": "code",
   "execution_count": 1,
   "id": "676487c4",
   "metadata": {},
   "outputs": [
    {
     "name": "stdout",
     "output_type": "stream",
     "text": [
      "Requirement already satisfied: pandas in c:\\users\\kiit\\anaconda3\\lib\\site-packages (1.4.2)\n",
      "Requirement already satisfied: numpy>=1.18.5 in c:\\users\\kiit\\anaconda3\\lib\\site-packages (from pandas) (1.21.5)\n",
      "Requirement already satisfied: python-dateutil>=2.8.1 in c:\\users\\kiit\\anaconda3\\lib\\site-packages (from pandas) (2.8.2)\n",
      "Requirement already satisfied: pytz>=2020.1 in c:\\users\\kiit\\anaconda3\\lib\\site-packages (from pandas) (2021.3)\n",
      "Requirement already satisfied: six>=1.5 in c:\\users\\kiit\\anaconda3\\lib\\site-packages (from python-dateutil>=2.8.1->pandas) (1.16.0)\n",
      "Note: you may need to restart the kernel to use updated packages.\n"
     ]
    }
   ],
   "source": [
    "pip install pandas"
   ]
  },
  {
   "cell_type": "code",
   "execution_count": 2,
   "id": "2d6bf2f0",
   "metadata": {},
   "outputs": [],
   "source": [
    "#numpy arrays  have a same datatype for the entire array whereas \n",
    "#pandas dataframes have same datatype per column."
   ]
  },
  {
   "cell_type": "code",
   "execution_count": 1,
   "id": "398796ab",
   "metadata": {},
   "outputs": [],
   "source": [
    "import pandas as pd\n",
    "import numpy as np\n",
    "from numpy.random import randn"
   ]
  },
  {
   "cell_type": "code",
   "execution_count": 14,
   "id": "e0991bc6",
   "metadata": {},
   "outputs": [
    {
     "data": {
      "text/html": [
       "<div>\n",
       "<style scoped>\n",
       "    .dataframe tbody tr th:only-of-type {\n",
       "        vertical-align: middle;\n",
       "    }\n",
       "\n",
       "    .dataframe tbody tr th {\n",
       "        vertical-align: top;\n",
       "    }\n",
       "\n",
       "    .dataframe thead th {\n",
       "        text-align: right;\n",
       "    }\n",
       "</style>\n",
       "<table border=\"1\" class=\"dataframe\">\n",
       "  <thead>\n",
       "    <tr style=\"text-align: right;\">\n",
       "      <th></th>\n",
       "      <th>S_No</th>\n",
       "      <th>Name</th>\n",
       "      <th>Blood Group</th>\n",
       "    </tr>\n",
       "  </thead>\n",
       "  <tbody>\n",
       "    <tr>\n",
       "      <th>0</th>\n",
       "      <td>1</td>\n",
       "      <td>A</td>\n",
       "      <td>A+</td>\n",
       "    </tr>\n",
       "    <tr>\n",
       "      <th>1</th>\n",
       "      <td>2</td>\n",
       "      <td>B</td>\n",
       "      <td>B+</td>\n",
       "    </tr>\n",
       "    <tr>\n",
       "      <th>2</th>\n",
       "      <td>3</td>\n",
       "      <td>C</td>\n",
       "      <td>AB+</td>\n",
       "    </tr>\n",
       "    <tr>\n",
       "      <th>3</th>\n",
       "      <td>4</td>\n",
       "      <td>D</td>\n",
       "      <td>B+</td>\n",
       "    </tr>\n",
       "    <tr>\n",
       "      <th>4</th>\n",
       "      <td>5</td>\n",
       "      <td>E</td>\n",
       "      <td>O+</td>\n",
       "    </tr>\n",
       "    <tr>\n",
       "      <th>5</th>\n",
       "      <td>6</td>\n",
       "      <td>F</td>\n",
       "      <td>AB-</td>\n",
       "    </tr>\n",
       "  </tbody>\n",
       "</table>\n",
       "</div>"
      ],
      "text/plain": [
       "   S_No Name Blood Group\n",
       "0     1    A          A+\n",
       "1     2    B          B+\n",
       "2     3    C         AB+\n",
       "3     4    D          B+\n",
       "4     5    E          O+\n",
       "5     6    F         AB-"
      ]
     },
     "execution_count": 14,
     "metadata": {},
     "output_type": "execute_result"
    }
   ],
   "source": [
    "record = [(1,\"A\",\"A+\"),\n",
    "         (2,\"B\",\"B+\"),\n",
    "         (3,\"C\",\"AB+\"),\n",
    "         (4,\"D\",\"B+\"),\n",
    "         (5,\"E\",\"O+\"),\n",
    "         (6,\"F\",\"AB-\")]\n",
    "df = pd.DataFrame(record,columns=[\"S_No\",\"Name\",\"Blood Group\"]);\n",
    "df"
   ]
  },
  {
   "cell_type": "code",
   "execution_count": 7,
   "id": "4cbff64f",
   "metadata": {},
   "outputs": [
    {
     "data": {
      "text/plain": [
       "(6, 3)"
      ]
     },
     "execution_count": 7,
     "metadata": {},
     "output_type": "execute_result"
    }
   ],
   "source": [
    "df.shape  #NUMBER OF ROWS AND COLUMNS"
   ]
  },
  {
   "cell_type": "code",
   "execution_count": 15,
   "id": "6e1d889a",
   "metadata": {},
   "outputs": [
    {
     "data": {
      "text/html": [
       "<div>\n",
       "<style scoped>\n",
       "    .dataframe tbody tr th:only-of-type {\n",
       "        vertical-align: middle;\n",
       "    }\n",
       "\n",
       "    .dataframe tbody tr th {\n",
       "        vertical-align: top;\n",
       "    }\n",
       "\n",
       "    .dataframe thead th {\n",
       "        text-align: right;\n",
       "    }\n",
       "</style>\n",
       "<table border=\"1\" class=\"dataframe\">\n",
       "  <thead>\n",
       "    <tr style=\"text-align: right;\">\n",
       "      <th></th>\n",
       "      <th>S_No</th>\n",
       "      <th>Name</th>\n",
       "      <th>Blood Group</th>\n",
       "    </tr>\n",
       "  </thead>\n",
       "  <tbody>\n",
       "    <tr>\n",
       "      <th>0</th>\n",
       "      <td>1</td>\n",
       "      <td>A</td>\n",
       "      <td>A+</td>\n",
       "    </tr>\n",
       "    <tr>\n",
       "      <th>1</th>\n",
       "      <td>2</td>\n",
       "      <td>B</td>\n",
       "      <td>B+</td>\n",
       "    </tr>\n",
       "    <tr>\n",
       "      <th>2</th>\n",
       "      <td>3</td>\n",
       "      <td>C</td>\n",
       "      <td>AB+</td>\n",
       "    </tr>\n",
       "    <tr>\n",
       "      <th>3</th>\n",
       "      <td>4</td>\n",
       "      <td>D</td>\n",
       "      <td>B+</td>\n",
       "    </tr>\n",
       "    <tr>\n",
       "      <th>4</th>\n",
       "      <td>5</td>\n",
       "      <td>E</td>\n",
       "      <td>O+</td>\n",
       "    </tr>\n",
       "  </tbody>\n",
       "</table>\n",
       "</div>"
      ],
      "text/plain": [
       "   S_No Name Blood Group\n",
       "0     1    A          A+\n",
       "1     2    B          B+\n",
       "2     3    C         AB+\n",
       "3     4    D          B+\n",
       "4     5    E          O+"
      ]
     },
     "execution_count": 15,
     "metadata": {},
     "output_type": "execute_result"
    }
   ],
   "source": [
    "df.head() #default 5"
   ]
  },
  {
   "cell_type": "code",
   "execution_count": 16,
   "id": "7467e99b",
   "metadata": {},
   "outputs": [
    {
     "data": {
      "text/html": [
       "<div>\n",
       "<style scoped>\n",
       "    .dataframe tbody tr th:only-of-type {\n",
       "        vertical-align: middle;\n",
       "    }\n",
       "\n",
       "    .dataframe tbody tr th {\n",
       "        vertical-align: top;\n",
       "    }\n",
       "\n",
       "    .dataframe thead th {\n",
       "        text-align: right;\n",
       "    }\n",
       "</style>\n",
       "<table border=\"1\" class=\"dataframe\">\n",
       "  <thead>\n",
       "    <tr style=\"text-align: right;\">\n",
       "      <th></th>\n",
       "      <th>S_No</th>\n",
       "      <th>Name</th>\n",
       "      <th>Blood Group</th>\n",
       "    </tr>\n",
       "  </thead>\n",
       "  <tbody>\n",
       "    <tr>\n",
       "      <th>4</th>\n",
       "      <td>5</td>\n",
       "      <td>E</td>\n",
       "      <td>O+</td>\n",
       "    </tr>\n",
       "    <tr>\n",
       "      <th>5</th>\n",
       "      <td>6</td>\n",
       "      <td>F</td>\n",
       "      <td>AB-</td>\n",
       "    </tr>\n",
       "  </tbody>\n",
       "</table>\n",
       "</div>"
      ],
      "text/plain": [
       "   S_No Name Blood Group\n",
       "4     5    E          O+\n",
       "5     6    F         AB-"
      ]
     },
     "execution_count": 16,
     "metadata": {},
     "output_type": "execute_result"
    }
   ],
   "source": [
    "df.tail(2)"
   ]
  },
  {
   "cell_type": "code",
   "execution_count": 17,
   "id": "0fa9b3b6",
   "metadata": {},
   "outputs": [
    {
     "data": {
      "text/plain": [
       "Index(['S_No', 'Name', 'Blood Group'], dtype='object')"
      ]
     },
     "execution_count": 17,
     "metadata": {},
     "output_type": "execute_result"
    }
   ],
   "source": [
    "df.columns\n"
   ]
  },
  {
   "cell_type": "code",
   "execution_count": 13,
   "id": "1151c77a",
   "metadata": {},
   "outputs": [
    {
     "data": {
      "text/plain": [
       "0    A\n",
       "1    B\n",
       "2    C\n",
       "3    D\n",
       "4    E\n",
       "5    F\n",
       "Name: Name, dtype: object"
      ]
     },
     "execution_count": 13,
     "metadata": {},
     "output_type": "execute_result"
    }
   ],
   "source": [
    "df.Name #print data of particular column.\n",
    "df[\"Name\"]"
   ]
  },
  {
   "cell_type": "code",
   "execution_count": 18,
   "id": "ed581f70",
   "metadata": {},
   "outputs": [
    {
     "data": {
      "text/html": [
       "<div>\n",
       "<style scoped>\n",
       "    .dataframe tbody tr th:only-of-type {\n",
       "        vertical-align: middle;\n",
       "    }\n",
       "\n",
       "    .dataframe tbody tr th {\n",
       "        vertical-align: top;\n",
       "    }\n",
       "\n",
       "    .dataframe thead th {\n",
       "        text-align: right;\n",
       "    }\n",
       "</style>\n",
       "<table border=\"1\" class=\"dataframe\">\n",
       "  <thead>\n",
       "    <tr style=\"text-align: right;\">\n",
       "      <th></th>\n",
       "      <th>S_No</th>\n",
       "      <th>Name</th>\n",
       "      <th>Blood Group</th>\n",
       "    </tr>\n",
       "  </thead>\n",
       "  <tbody>\n",
       "    <tr>\n",
       "      <th>5</th>\n",
       "      <td>6</td>\n",
       "      <td>F</td>\n",
       "      <td>AB-</td>\n",
       "    </tr>\n",
       "  </tbody>\n",
       "</table>\n",
       "</div>"
      ],
      "text/plain": [
       "   S_No Name Blood Group\n",
       "5     6    F         AB-"
      ]
     },
     "execution_count": 18,
     "metadata": {},
     "output_type": "execute_result"
    }
   ],
   "source": [
    "df[df.S_No == df.S_No.max()]"
   ]
  },
  {
   "cell_type": "code",
   "execution_count": 21,
   "id": "1104037a",
   "metadata": {},
   "outputs": [
    {
     "data": {
      "text/plain": [
       "5    F\n",
       "Name: Name, dtype: object"
      ]
     },
     "execution_count": 21,
     "metadata": {},
     "output_type": "execute_result"
    }
   ],
   "source": [
    "df.Name[df.S_No==df.S_No.max()]"
   ]
  },
  {
   "cell_type": "code",
   "execution_count": 27,
   "id": "3aa7c605",
   "metadata": {},
   "outputs": [
    {
     "data": {
      "text/html": [
       "<div>\n",
       "<style scoped>\n",
       "    .dataframe tbody tr th:only-of-type {\n",
       "        vertical-align: middle;\n",
       "    }\n",
       "\n",
       "    .dataframe tbody tr th {\n",
       "        vertical-align: top;\n",
       "    }\n",
       "\n",
       "    .dataframe thead th {\n",
       "        text-align: right;\n",
       "    }\n",
       "</style>\n",
       "<table border=\"1\" class=\"dataframe\">\n",
       "  <thead>\n",
       "    <tr style=\"text-align: right;\">\n",
       "      <th></th>\n",
       "      <th>A1</th>\n",
       "      <th>A2</th>\n",
       "      <th>A3</th>\n",
       "    </tr>\n",
       "  </thead>\n",
       "  <tbody>\n",
       "    <tr>\n",
       "      <th>a</th>\n",
       "      <td>-0.348559</td>\n",
       "      <td>0.771941</td>\n",
       "      <td>-0.179358</td>\n",
       "    </tr>\n",
       "    <tr>\n",
       "      <th>b</th>\n",
       "      <td>0.502937</td>\n",
       "      <td>0.060749</td>\n",
       "      <td>-0.158984</td>\n",
       "    </tr>\n",
       "    <tr>\n",
       "      <th>c</th>\n",
       "      <td>1.135485</td>\n",
       "      <td>2.165081</td>\n",
       "      <td>-0.394370</td>\n",
       "    </tr>\n",
       "    <tr>\n",
       "      <th>d</th>\n",
       "      <td>1.068136</td>\n",
       "      <td>1.823863</td>\n",
       "      <td>-0.075327</td>\n",
       "    </tr>\n",
       "    <tr>\n",
       "      <th>e</th>\n",
       "      <td>-0.846568</td>\n",
       "      <td>-1.299298</td>\n",
       "      <td>0.084708</td>\n",
       "    </tr>\n",
       "  </tbody>\n",
       "</table>\n",
       "</div>"
      ],
      "text/plain": [
       "         A1        A2        A3\n",
       "a -0.348559  0.771941 -0.179358\n",
       "b  0.502937  0.060749 -0.158984\n",
       "c  1.135485  2.165081 -0.394370\n",
       "d  1.068136  1.823863 -0.075327\n",
       "e -0.846568 -1.299298  0.084708"
      ]
     },
     "execution_count": 27,
     "metadata": {},
     "output_type": "execute_result"
    }
   ],
   "source": [
    "df2=pd.DataFrame(randn(5,3),index=[\"a\",\"b\",\"c\",\"d\",\"e\"],columns = [\"A1\",\"A2\",\"A3\"])\n",
    "#or\n",
    "df2=pd.DataFrame(randn(5,3),  index=\"a b c d e\".split(), columns=\"A1 A2 A3\".split())\n",
    "df2"
   ]
  },
  {
   "cell_type": "code",
   "execution_count": 4,
   "id": "24144a9a",
   "metadata": {},
   "outputs": [
    {
     "data": {
      "text/html": [
       "<div>\n",
       "<style scoped>\n",
       "    .dataframe tbody tr th:only-of-type {\n",
       "        vertical-align: middle;\n",
       "    }\n",
       "\n",
       "    .dataframe tbody tr th {\n",
       "        vertical-align: top;\n",
       "    }\n",
       "\n",
       "    .dataframe thead th {\n",
       "        text-align: right;\n",
       "    }\n",
       "</style>\n",
       "<table border=\"1\" class=\"dataframe\">\n",
       "  <thead>\n",
       "    <tr style=\"text-align: right;\">\n",
       "      <th></th>\n",
       "      <th>6</th>\n",
       "      <th>7</th>\n",
       "      <th>8</th>\n",
       "      <th>9</th>\n",
       "      <th>10</th>\n",
       "      <th>11</th>\n",
       "      <th>12</th>\n",
       "    </tr>\n",
       "  </thead>\n",
       "  <tbody>\n",
       "    <tr>\n",
       "      <th>a</th>\n",
       "      <td>-1.446969</td>\n",
       "      <td>0.217715</td>\n",
       "      <td>0.408546</td>\n",
       "      <td>1.995419</td>\n",
       "      <td>0.645280</td>\n",
       "      <td>0.291048</td>\n",
       "      <td>0.218304</td>\n",
       "    </tr>\n",
       "    <tr>\n",
       "      <th>b</th>\n",
       "      <td>-0.978394</td>\n",
       "      <td>0.722677</td>\n",
       "      <td>-0.987703</td>\n",
       "      <td>-0.049706</td>\n",
       "      <td>0.581475</td>\n",
       "      <td>0.014926</td>\n",
       "      <td>-1.384342</td>\n",
       "    </tr>\n",
       "    <tr>\n",
       "      <th>c</th>\n",
       "      <td>-1.276109</td>\n",
       "      <td>-1.015793</td>\n",
       "      <td>-0.138648</td>\n",
       "      <td>0.835987</td>\n",
       "      <td>1.709803</td>\n",
       "      <td>-0.783887</td>\n",
       "      <td>-0.538732</td>\n",
       "    </tr>\n",
       "    <tr>\n",
       "      <th>d</th>\n",
       "      <td>-0.613648</td>\n",
       "      <td>-0.947451</td>\n",
       "      <td>0.997924</td>\n",
       "      <td>-0.289431</td>\n",
       "      <td>-0.286147</td>\n",
       "      <td>-1.451728</td>\n",
       "      <td>-1.323990</td>\n",
       "    </tr>\n",
       "    <tr>\n",
       "      <th>e</th>\n",
       "      <td>-0.072348</td>\n",
       "      <td>-1.080879</td>\n",
       "      <td>-0.419201</td>\n",
       "      <td>-0.781780</td>\n",
       "      <td>-0.463377</td>\n",
       "      <td>-0.390385</td>\n",
       "      <td>-0.079013</td>\n",
       "    </tr>\n",
       "  </tbody>\n",
       "</table>\n",
       "</div>"
      ],
      "text/plain": [
       "          6         7         8         9        10        11        12\n",
       "a -1.446969  0.217715  0.408546  1.995419  0.645280  0.291048  0.218304\n",
       "b -0.978394  0.722677 -0.987703 -0.049706  0.581475  0.014926 -1.384342\n",
       "c -1.276109 -1.015793 -0.138648  0.835987  1.709803 -0.783887 -0.538732\n",
       "d -0.613648 -0.947451  0.997924 -0.289431 -0.286147 -1.451728 -1.323990\n",
       "e -0.072348 -1.080879 -0.419201 -0.781780 -0.463377 -0.390385 -0.079013"
      ]
     },
     "execution_count": 4,
     "metadata": {},
     "output_type": "execute_result"
    }
   ],
   "source": [
    "df3=pd.DataFrame(randn(5,7),index=\"a b c d e\".split(),columns=\"6 7 8 9 10  11 12\".split())\n",
    "df3"
   ]
  },
  {
   "cell_type": "code",
   "execution_count": 5,
   "id": "08339e84",
   "metadata": {},
   "outputs": [
    {
     "data": {
      "text/plain": [
       "a    0.217715\n",
       "b    0.722677\n",
       "c   -1.015793\n",
       "d   -0.947451\n",
       "e   -1.080879\n",
       "Name: 7, dtype: float64"
      ]
     },
     "execution_count": 5,
     "metadata": {},
     "output_type": "execute_result"
    }
   ],
   "source": [
    "df3['7']"
   ]
  },
  {
   "cell_type": "code",
   "execution_count": 35,
   "id": "f3871962",
   "metadata": {},
   "outputs": [
    {
     "data": {
      "text/html": [
       "<div>\n",
       "<style scoped>\n",
       "    .dataframe tbody tr th:only-of-type {\n",
       "        vertical-align: middle;\n",
       "    }\n",
       "\n",
       "    .dataframe tbody tr th {\n",
       "        vertical-align: top;\n",
       "    }\n",
       "\n",
       "    .dataframe thead th {\n",
       "        text-align: right;\n",
       "    }\n",
       "</style>\n",
       "<table border=\"1\" class=\"dataframe\">\n",
       "  <thead>\n",
       "    <tr style=\"text-align: right;\">\n",
       "      <th></th>\n",
       "      <th>7</th>\n",
       "      <th>9</th>\n",
       "      <th>11</th>\n",
       "    </tr>\n",
       "  </thead>\n",
       "  <tbody>\n",
       "    <tr>\n",
       "      <th>a</th>\n",
       "      <td>-0.690847</td>\n",
       "      <td>1.183771</td>\n",
       "      <td>-0.210410</td>\n",
       "    </tr>\n",
       "    <tr>\n",
       "      <th>b</th>\n",
       "      <td>2.507416</td>\n",
       "      <td>-0.077279</td>\n",
       "      <td>1.862320</td>\n",
       "    </tr>\n",
       "    <tr>\n",
       "      <th>c</th>\n",
       "      <td>1.956129</td>\n",
       "      <td>-0.625764</td>\n",
       "      <td>0.416441</td>\n",
       "    </tr>\n",
       "    <tr>\n",
       "      <th>d</th>\n",
       "      <td>0.582022</td>\n",
       "      <td>-1.410688</td>\n",
       "      <td>0.626678</td>\n",
       "    </tr>\n",
       "    <tr>\n",
       "      <th>e</th>\n",
       "      <td>-1.162402</td>\n",
       "      <td>-1.417412</td>\n",
       "      <td>-1.121952</td>\n",
       "    </tr>\n",
       "  </tbody>\n",
       "</table>\n",
       "</div>"
      ],
      "text/plain": [
       "          7         9        11\n",
       "a -0.690847  1.183771 -0.210410\n",
       "b  2.507416 -0.077279  1.862320\n",
       "c  1.956129 -0.625764  0.416441\n",
       "d  0.582022 -1.410688  0.626678\n",
       "e -1.162402 -1.417412 -1.121952"
      ]
     },
     "execution_count": 35,
     "metadata": {},
     "output_type": "execute_result"
    }
   ],
   "source": [
    "df3[['7','9','11']]"
   ]
  },
  {
   "cell_type": "code",
   "execution_count": 6,
   "id": "068054e0",
   "metadata": {},
   "outputs": [
    {
     "data": {
      "text/plain": [
       "pandas.core.series.Series"
      ]
     },
     "execution_count": 6,
     "metadata": {},
     "output_type": "execute_result"
    }
   ],
   "source": [
    "#Dataframe columns are just series\n",
    "type(df3['7'])"
   ]
  },
  {
   "cell_type": "code",
   "execution_count": 9,
   "id": "7ac9eb1e",
   "metadata": {},
   "outputs": [
    {
     "data": {
      "text/html": [
       "<div>\n",
       "<style scoped>\n",
       "    .dataframe tbody tr th:only-of-type {\n",
       "        vertical-align: middle;\n",
       "    }\n",
       "\n",
       "    .dataframe tbody tr th {\n",
       "        vertical-align: top;\n",
       "    }\n",
       "\n",
       "    .dataframe thead th {\n",
       "        text-align: right;\n",
       "    }\n",
       "</style>\n",
       "<table border=\"1\" class=\"dataframe\">\n",
       "  <thead>\n",
       "    <tr style=\"text-align: right;\">\n",
       "      <th></th>\n",
       "      <th>6</th>\n",
       "      <th>7</th>\n",
       "      <th>8</th>\n",
       "      <th>9</th>\n",
       "      <th>10</th>\n",
       "      <th>11</th>\n",
       "      <th>12</th>\n",
       "      <th>addup</th>\n",
       "    </tr>\n",
       "  </thead>\n",
       "  <tbody>\n",
       "    <tr>\n",
       "      <th>a</th>\n",
       "      <td>-1.446969</td>\n",
       "      <td>0.217715</td>\n",
       "      <td>0.408546</td>\n",
       "      <td>1.995419</td>\n",
       "      <td>0.645280</td>\n",
       "      <td>0.291048</td>\n",
       "      <td>0.218304</td>\n",
       "      <td>2.286466</td>\n",
       "    </tr>\n",
       "    <tr>\n",
       "      <th>b</th>\n",
       "      <td>-0.978394</td>\n",
       "      <td>0.722677</td>\n",
       "      <td>-0.987703</td>\n",
       "      <td>-0.049706</td>\n",
       "      <td>0.581475</td>\n",
       "      <td>0.014926</td>\n",
       "      <td>-1.384342</td>\n",
       "      <td>-0.034779</td>\n",
       "    </tr>\n",
       "    <tr>\n",
       "      <th>c</th>\n",
       "      <td>-1.276109</td>\n",
       "      <td>-1.015793</td>\n",
       "      <td>-0.138648</td>\n",
       "      <td>0.835987</td>\n",
       "      <td>1.709803</td>\n",
       "      <td>-0.783887</td>\n",
       "      <td>-0.538732</td>\n",
       "      <td>0.052101</td>\n",
       "    </tr>\n",
       "    <tr>\n",
       "      <th>d</th>\n",
       "      <td>-0.613648</td>\n",
       "      <td>-0.947451</td>\n",
       "      <td>0.997924</td>\n",
       "      <td>-0.289431</td>\n",
       "      <td>-0.286147</td>\n",
       "      <td>-1.451728</td>\n",
       "      <td>-1.323990</td>\n",
       "      <td>-1.741158</td>\n",
       "    </tr>\n",
       "    <tr>\n",
       "      <th>e</th>\n",
       "      <td>-0.072348</td>\n",
       "      <td>-1.080879</td>\n",
       "      <td>-0.419201</td>\n",
       "      <td>-0.781780</td>\n",
       "      <td>-0.463377</td>\n",
       "      <td>-0.390385</td>\n",
       "      <td>-0.079013</td>\n",
       "      <td>-1.172166</td>\n",
       "    </tr>\n",
       "  </tbody>\n",
       "</table>\n",
       "</div>"
      ],
      "text/plain": [
       "          6         7         8         9        10        11        12  \\\n",
       "a -1.446969  0.217715  0.408546  1.995419  0.645280  0.291048  0.218304   \n",
       "b -0.978394  0.722677 -0.987703 -0.049706  0.581475  0.014926 -1.384342   \n",
       "c -1.276109 -1.015793 -0.138648  0.835987  1.709803 -0.783887 -0.538732   \n",
       "d -0.613648 -0.947451  0.997924 -0.289431 -0.286147 -1.451728 -1.323990   \n",
       "e -0.072348 -1.080879 -0.419201 -0.781780 -0.463377 -0.390385 -0.079013   \n",
       "\n",
       "      addup  \n",
       "a  2.286466  \n",
       "b -0.034779  \n",
       "c  0.052101  \n",
       "d -1.741158  \n",
       "e -1.172166  "
      ]
     },
     "execution_count": 9,
     "metadata": {},
     "output_type": "execute_result"
    }
   ],
   "source": [
    "df3['addup']=df3['9']+df3['11']\n",
    "df3"
   ]
  },
  {
   "cell_type": "code",
   "execution_count": 13,
   "id": "47c18424",
   "metadata": {},
   "outputs": [
    {
     "data": {
      "text/html": [
       "<div>\n",
       "<style scoped>\n",
       "    .dataframe tbody tr th:only-of-type {\n",
       "        vertical-align: middle;\n",
       "    }\n",
       "\n",
       "    .dataframe tbody tr th {\n",
       "        vertical-align: top;\n",
       "    }\n",
       "\n",
       "    .dataframe thead th {\n",
       "        text-align: right;\n",
       "    }\n",
       "</style>\n",
       "<table border=\"1\" class=\"dataframe\">\n",
       "  <thead>\n",
       "    <tr style=\"text-align: right;\">\n",
       "      <th></th>\n",
       "      <th>6</th>\n",
       "      <th>7</th>\n",
       "      <th>8</th>\n",
       "      <th>9</th>\n",
       "      <th>10</th>\n",
       "      <th>11</th>\n",
       "      <th>12</th>\n",
       "    </tr>\n",
       "  </thead>\n",
       "  <tbody>\n",
       "    <tr>\n",
       "      <th>a</th>\n",
       "      <td>-1.446969</td>\n",
       "      <td>0.217715</td>\n",
       "      <td>0.408546</td>\n",
       "      <td>1.995419</td>\n",
       "      <td>0.645280</td>\n",
       "      <td>0.291048</td>\n",
       "      <td>0.218304</td>\n",
       "    </tr>\n",
       "    <tr>\n",
       "      <th>b</th>\n",
       "      <td>-0.978394</td>\n",
       "      <td>0.722677</td>\n",
       "      <td>-0.987703</td>\n",
       "      <td>-0.049706</td>\n",
       "      <td>0.581475</td>\n",
       "      <td>0.014926</td>\n",
       "      <td>-1.384342</td>\n",
       "    </tr>\n",
       "    <tr>\n",
       "      <th>c</th>\n",
       "      <td>-1.276109</td>\n",
       "      <td>-1.015793</td>\n",
       "      <td>-0.138648</td>\n",
       "      <td>0.835987</td>\n",
       "      <td>1.709803</td>\n",
       "      <td>-0.783887</td>\n",
       "      <td>-0.538732</td>\n",
       "    </tr>\n",
       "    <tr>\n",
       "      <th>d</th>\n",
       "      <td>-0.613648</td>\n",
       "      <td>-0.947451</td>\n",
       "      <td>0.997924</td>\n",
       "      <td>-0.289431</td>\n",
       "      <td>-0.286147</td>\n",
       "      <td>-1.451728</td>\n",
       "      <td>-1.323990</td>\n",
       "    </tr>\n",
       "    <tr>\n",
       "      <th>e</th>\n",
       "      <td>-0.072348</td>\n",
       "      <td>-1.080879</td>\n",
       "      <td>-0.419201</td>\n",
       "      <td>-0.781780</td>\n",
       "      <td>-0.463377</td>\n",
       "      <td>-0.390385</td>\n",
       "      <td>-0.079013</td>\n",
       "    </tr>\n",
       "  </tbody>\n",
       "</table>\n",
       "</div>"
      ],
      "text/plain": [
       "          6         7         8         9        10        11        12\n",
       "a -1.446969  0.217715  0.408546  1.995419  0.645280  0.291048  0.218304\n",
       "b -0.978394  0.722677 -0.987703 -0.049706  0.581475  0.014926 -1.384342\n",
       "c -1.276109 -1.015793 -0.138648  0.835987  1.709803 -0.783887 -0.538732\n",
       "d -0.613648 -0.947451  0.997924 -0.289431 -0.286147 -1.451728 -1.323990\n",
       "e -0.072348 -1.080879 -0.419201 -0.781780 -0.463377 -0.390385 -0.079013"
      ]
     },
     "execution_count": 13,
     "metadata": {},
     "output_type": "execute_result"
    }
   ],
   "source": [
    "df3.drop('addup',axis=1)"
   ]
  },
  {
   "cell_type": "code",
   "execution_count": 14,
   "id": "9ecc2986",
   "metadata": {},
   "outputs": [
    {
     "data": {
      "text/html": [
       "<div>\n",
       "<style scoped>\n",
       "    .dataframe tbody tr th:only-of-type {\n",
       "        vertical-align: middle;\n",
       "    }\n",
       "\n",
       "    .dataframe tbody tr th {\n",
       "        vertical-align: top;\n",
       "    }\n",
       "\n",
       "    .dataframe thead th {\n",
       "        text-align: right;\n",
       "    }\n",
       "</style>\n",
       "<table border=\"1\" class=\"dataframe\">\n",
       "  <thead>\n",
       "    <tr style=\"text-align: right;\">\n",
       "      <th></th>\n",
       "      <th>6</th>\n",
       "      <th>7</th>\n",
       "      <th>8</th>\n",
       "      <th>9</th>\n",
       "      <th>10</th>\n",
       "      <th>11</th>\n",
       "      <th>12</th>\n",
       "      <th>addup</th>\n",
       "    </tr>\n",
       "  </thead>\n",
       "  <tbody>\n",
       "    <tr>\n",
       "      <th>a</th>\n",
       "      <td>-1.446969</td>\n",
       "      <td>0.217715</td>\n",
       "      <td>0.408546</td>\n",
       "      <td>1.995419</td>\n",
       "      <td>0.645280</td>\n",
       "      <td>0.291048</td>\n",
       "      <td>0.218304</td>\n",
       "      <td>2.286466</td>\n",
       "    </tr>\n",
       "    <tr>\n",
       "      <th>b</th>\n",
       "      <td>-0.978394</td>\n",
       "      <td>0.722677</td>\n",
       "      <td>-0.987703</td>\n",
       "      <td>-0.049706</td>\n",
       "      <td>0.581475</td>\n",
       "      <td>0.014926</td>\n",
       "      <td>-1.384342</td>\n",
       "      <td>-0.034779</td>\n",
       "    </tr>\n",
       "    <tr>\n",
       "      <th>c</th>\n",
       "      <td>-1.276109</td>\n",
       "      <td>-1.015793</td>\n",
       "      <td>-0.138648</td>\n",
       "      <td>0.835987</td>\n",
       "      <td>1.709803</td>\n",
       "      <td>-0.783887</td>\n",
       "      <td>-0.538732</td>\n",
       "      <td>0.052101</td>\n",
       "    </tr>\n",
       "    <tr>\n",
       "      <th>d</th>\n",
       "      <td>-0.613648</td>\n",
       "      <td>-0.947451</td>\n",
       "      <td>0.997924</td>\n",
       "      <td>-0.289431</td>\n",
       "      <td>-0.286147</td>\n",
       "      <td>-1.451728</td>\n",
       "      <td>-1.323990</td>\n",
       "      <td>-1.741158</td>\n",
       "    </tr>\n",
       "    <tr>\n",
       "      <th>e</th>\n",
       "      <td>-0.072348</td>\n",
       "      <td>-1.080879</td>\n",
       "      <td>-0.419201</td>\n",
       "      <td>-0.781780</td>\n",
       "      <td>-0.463377</td>\n",
       "      <td>-0.390385</td>\n",
       "      <td>-0.079013</td>\n",
       "      <td>-1.172166</td>\n",
       "    </tr>\n",
       "  </tbody>\n",
       "</table>\n",
       "</div>"
      ],
      "text/plain": [
       "          6         7         8         9        10        11        12  \\\n",
       "a -1.446969  0.217715  0.408546  1.995419  0.645280  0.291048  0.218304   \n",
       "b -0.978394  0.722677 -0.987703 -0.049706  0.581475  0.014926 -1.384342   \n",
       "c -1.276109 -1.015793 -0.138648  0.835987  1.709803 -0.783887 -0.538732   \n",
       "d -0.613648 -0.947451  0.997924 -0.289431 -0.286147 -1.451728 -1.323990   \n",
       "e -0.072348 -1.080879 -0.419201 -0.781780 -0.463377 -0.390385 -0.079013   \n",
       "\n",
       "      addup  \n",
       "a  2.286466  \n",
       "b -0.034779  \n",
       "c  0.052101  \n",
       "d -1.741158  \n",
       "e -1.172166  "
      ]
     },
     "execution_count": 14,
     "metadata": {},
     "output_type": "execute_result"
    }
   ],
   "source": [
    "df3 #does not change the original value."
   ]
  },
  {
   "cell_type": "code",
   "execution_count": 15,
   "id": "246b7aff",
   "metadata": {},
   "outputs": [],
   "source": [
    "df3.drop('addup',axis=1,inplace=True) #drops columns"
   ]
  },
  {
   "cell_type": "code",
   "execution_count": 16,
   "id": "aef8a274",
   "metadata": {},
   "outputs": [
    {
     "data": {
      "text/html": [
       "<div>\n",
       "<style scoped>\n",
       "    .dataframe tbody tr th:only-of-type {\n",
       "        vertical-align: middle;\n",
       "    }\n",
       "\n",
       "    .dataframe tbody tr th {\n",
       "        vertical-align: top;\n",
       "    }\n",
       "\n",
       "    .dataframe thead th {\n",
       "        text-align: right;\n",
       "    }\n",
       "</style>\n",
       "<table border=\"1\" class=\"dataframe\">\n",
       "  <thead>\n",
       "    <tr style=\"text-align: right;\">\n",
       "      <th></th>\n",
       "      <th>6</th>\n",
       "      <th>7</th>\n",
       "      <th>8</th>\n",
       "      <th>9</th>\n",
       "      <th>10</th>\n",
       "      <th>11</th>\n",
       "      <th>12</th>\n",
       "    </tr>\n",
       "  </thead>\n",
       "  <tbody>\n",
       "    <tr>\n",
       "      <th>a</th>\n",
       "      <td>-1.446969</td>\n",
       "      <td>0.217715</td>\n",
       "      <td>0.408546</td>\n",
       "      <td>1.995419</td>\n",
       "      <td>0.645280</td>\n",
       "      <td>0.291048</td>\n",
       "      <td>0.218304</td>\n",
       "    </tr>\n",
       "    <tr>\n",
       "      <th>b</th>\n",
       "      <td>-0.978394</td>\n",
       "      <td>0.722677</td>\n",
       "      <td>-0.987703</td>\n",
       "      <td>-0.049706</td>\n",
       "      <td>0.581475</td>\n",
       "      <td>0.014926</td>\n",
       "      <td>-1.384342</td>\n",
       "    </tr>\n",
       "    <tr>\n",
       "      <th>c</th>\n",
       "      <td>-1.276109</td>\n",
       "      <td>-1.015793</td>\n",
       "      <td>-0.138648</td>\n",
       "      <td>0.835987</td>\n",
       "      <td>1.709803</td>\n",
       "      <td>-0.783887</td>\n",
       "      <td>-0.538732</td>\n",
       "    </tr>\n",
       "    <tr>\n",
       "      <th>d</th>\n",
       "      <td>-0.613648</td>\n",
       "      <td>-0.947451</td>\n",
       "      <td>0.997924</td>\n",
       "      <td>-0.289431</td>\n",
       "      <td>-0.286147</td>\n",
       "      <td>-1.451728</td>\n",
       "      <td>-1.323990</td>\n",
       "    </tr>\n",
       "    <tr>\n",
       "      <th>e</th>\n",
       "      <td>-0.072348</td>\n",
       "      <td>-1.080879</td>\n",
       "      <td>-0.419201</td>\n",
       "      <td>-0.781780</td>\n",
       "      <td>-0.463377</td>\n",
       "      <td>-0.390385</td>\n",
       "      <td>-0.079013</td>\n",
       "    </tr>\n",
       "  </tbody>\n",
       "</table>\n",
       "</div>"
      ],
      "text/plain": [
       "          6         7         8         9        10        11        12\n",
       "a -1.446969  0.217715  0.408546  1.995419  0.645280  0.291048  0.218304\n",
       "b -0.978394  0.722677 -0.987703 -0.049706  0.581475  0.014926 -1.384342\n",
       "c -1.276109 -1.015793 -0.138648  0.835987  1.709803 -0.783887 -0.538732\n",
       "d -0.613648 -0.947451  0.997924 -0.289431 -0.286147 -1.451728 -1.323990\n",
       "e -0.072348 -1.080879 -0.419201 -0.781780 -0.463377 -0.390385 -0.079013"
      ]
     },
     "execution_count": 16,
     "metadata": {},
     "output_type": "execute_result"
    }
   ],
   "source": [
    "df3"
   ]
  },
  {
   "cell_type": "code",
   "execution_count": 17,
   "id": "0f2285ee",
   "metadata": {},
   "outputs": [],
   "source": [
    "df3.drop('c',axis=0,inplace=True) #Drops rows, default 0"
   ]
  },
  {
   "cell_type": "code",
   "execution_count": 18,
   "id": "2700754a",
   "metadata": {},
   "outputs": [
    {
     "data": {
      "text/html": [
       "<div>\n",
       "<style scoped>\n",
       "    .dataframe tbody tr th:only-of-type {\n",
       "        vertical-align: middle;\n",
       "    }\n",
       "\n",
       "    .dataframe tbody tr th {\n",
       "        vertical-align: top;\n",
       "    }\n",
       "\n",
       "    .dataframe thead th {\n",
       "        text-align: right;\n",
       "    }\n",
       "</style>\n",
       "<table border=\"1\" class=\"dataframe\">\n",
       "  <thead>\n",
       "    <tr style=\"text-align: right;\">\n",
       "      <th></th>\n",
       "      <th>6</th>\n",
       "      <th>7</th>\n",
       "      <th>8</th>\n",
       "      <th>9</th>\n",
       "      <th>10</th>\n",
       "      <th>11</th>\n",
       "      <th>12</th>\n",
       "    </tr>\n",
       "  </thead>\n",
       "  <tbody>\n",
       "    <tr>\n",
       "      <th>a</th>\n",
       "      <td>-1.446969</td>\n",
       "      <td>0.217715</td>\n",
       "      <td>0.408546</td>\n",
       "      <td>1.995419</td>\n",
       "      <td>0.645280</td>\n",
       "      <td>0.291048</td>\n",
       "      <td>0.218304</td>\n",
       "    </tr>\n",
       "    <tr>\n",
       "      <th>b</th>\n",
       "      <td>-0.978394</td>\n",
       "      <td>0.722677</td>\n",
       "      <td>-0.987703</td>\n",
       "      <td>-0.049706</td>\n",
       "      <td>0.581475</td>\n",
       "      <td>0.014926</td>\n",
       "      <td>-1.384342</td>\n",
       "    </tr>\n",
       "    <tr>\n",
       "      <th>d</th>\n",
       "      <td>-0.613648</td>\n",
       "      <td>-0.947451</td>\n",
       "      <td>0.997924</td>\n",
       "      <td>-0.289431</td>\n",
       "      <td>-0.286147</td>\n",
       "      <td>-1.451728</td>\n",
       "      <td>-1.323990</td>\n",
       "    </tr>\n",
       "    <tr>\n",
       "      <th>e</th>\n",
       "      <td>-0.072348</td>\n",
       "      <td>-1.080879</td>\n",
       "      <td>-0.419201</td>\n",
       "      <td>-0.781780</td>\n",
       "      <td>-0.463377</td>\n",
       "      <td>-0.390385</td>\n",
       "      <td>-0.079013</td>\n",
       "    </tr>\n",
       "  </tbody>\n",
       "</table>\n",
       "</div>"
      ],
      "text/plain": [
       "          6         7         8         9        10        11        12\n",
       "a -1.446969  0.217715  0.408546  1.995419  0.645280  0.291048  0.218304\n",
       "b -0.978394  0.722677 -0.987703 -0.049706  0.581475  0.014926 -1.384342\n",
       "d -0.613648 -0.947451  0.997924 -0.289431 -0.286147 -1.451728 -1.323990\n",
       "e -0.072348 -1.080879 -0.419201 -0.781780 -0.463377 -0.390385 -0.079013"
      ]
     },
     "execution_count": 18,
     "metadata": {},
     "output_type": "execute_result"
    }
   ],
   "source": [
    "df3"
   ]
  },
  {
   "cell_type": "code",
   "execution_count": 24,
   "id": "56da7287",
   "metadata": {},
   "outputs": [
    {
     "data": {
      "text/plain": [
       "6    -0.978394\n",
       "7     0.722677\n",
       "8    -0.987703\n",
       "9    -0.049706\n",
       "10    0.581475\n",
       "11    0.014926\n",
       "12   -1.384342\n",
       "Name: b, dtype: float64"
      ]
     },
     "execution_count": 24,
     "metadata": {},
     "output_type": "execute_result"
    }
   ],
   "source": [
    "df3.loc['b']"
   ]
  },
  {
   "cell_type": "code",
   "execution_count": 29,
   "id": "9c5d1caf",
   "metadata": {},
   "outputs": [
    {
     "name": "stdout",
     "output_type": "stream",
     "text": [
      "          6         7         8         9        10        11        12\n",
      "a -1.446969  0.217715  0.408546  1.995419  0.645280  0.291048  0.218304\n",
      "b -0.978394  0.722677 -0.987703 -0.049706  0.581475  0.014926 -1.384342\n",
      "d -0.613648 -0.947451  0.997924 -0.289431 -0.286147 -1.451728 -1.323990\n",
      "e -0.072348 -1.080879 -0.419201 -0.781780 -0.463377 -0.390385 -0.079013\n",
      "6    -0.978394\n",
      "7     0.722677\n",
      "8    -0.987703\n",
      "9    -0.049706\n",
      "10    0.581475\n",
      "11    0.014926\n",
      "12   -1.384342\n",
      "Name: b, dtype: float64\n"
     ]
    }
   ],
   "source": [
    "print(df3)\n",
    "print(df3.iloc[1])"
   ]
  },
  {
   "cell_type": "code",
   "execution_count": 41,
   "id": "e52e421f",
   "metadata": {},
   "outputs": [
    {
     "data": {
      "text/plain": [
       "-1.4469685451181709"
      ]
     },
     "execution_count": 41,
     "metadata": {},
     "output_type": "execute_result"
    }
   ],
   "source": [
    "df3.loc['a','6']"
   ]
  },
  {
   "cell_type": "code",
   "execution_count": 42,
   "id": "f7744cbc",
   "metadata": {},
   "outputs": [],
   "source": [
    "df3.loc['a']=69"
   ]
  },
  {
   "cell_type": "code",
   "execution_count": 43,
   "id": "ec83a6d3",
   "metadata": {},
   "outputs": [
    {
     "data": {
      "text/html": [
       "<div>\n",
       "<style scoped>\n",
       "    .dataframe tbody tr th:only-of-type {\n",
       "        vertical-align: middle;\n",
       "    }\n",
       "\n",
       "    .dataframe tbody tr th {\n",
       "        vertical-align: top;\n",
       "    }\n",
       "\n",
       "    .dataframe thead th {\n",
       "        text-align: right;\n",
       "    }\n",
       "</style>\n",
       "<table border=\"1\" class=\"dataframe\">\n",
       "  <thead>\n",
       "    <tr style=\"text-align: right;\">\n",
       "      <th></th>\n",
       "      <th>6</th>\n",
       "      <th>7</th>\n",
       "      <th>8</th>\n",
       "      <th>9</th>\n",
       "      <th>10</th>\n",
       "      <th>11</th>\n",
       "      <th>12</th>\n",
       "    </tr>\n",
       "  </thead>\n",
       "  <tbody>\n",
       "    <tr>\n",
       "      <th>a</th>\n",
       "      <td>69.000000</td>\n",
       "      <td>69.000000</td>\n",
       "      <td>69.000000</td>\n",
       "      <td>69.000000</td>\n",
       "      <td>69.000000</td>\n",
       "      <td>69.000000</td>\n",
       "      <td>69.000000</td>\n",
       "    </tr>\n",
       "    <tr>\n",
       "      <th>b</th>\n",
       "      <td>-0.978394</td>\n",
       "      <td>0.722677</td>\n",
       "      <td>-0.987703</td>\n",
       "      <td>-0.049706</td>\n",
       "      <td>0.581475</td>\n",
       "      <td>0.014926</td>\n",
       "      <td>-1.384342</td>\n",
       "    </tr>\n",
       "    <tr>\n",
       "      <th>d</th>\n",
       "      <td>-0.613648</td>\n",
       "      <td>-0.947451</td>\n",
       "      <td>0.997924</td>\n",
       "      <td>-0.289431</td>\n",
       "      <td>-0.286147</td>\n",
       "      <td>-1.451728</td>\n",
       "      <td>-1.323990</td>\n",
       "    </tr>\n",
       "    <tr>\n",
       "      <th>e</th>\n",
       "      <td>-0.072348</td>\n",
       "      <td>-1.080879</td>\n",
       "      <td>-0.419201</td>\n",
       "      <td>-0.781780</td>\n",
       "      <td>-0.463377</td>\n",
       "      <td>-0.390385</td>\n",
       "      <td>-0.079013</td>\n",
       "    </tr>\n",
       "  </tbody>\n",
       "</table>\n",
       "</div>"
      ],
      "text/plain": [
       "           6          7          8          9         10         11         12\n",
       "a  69.000000  69.000000  69.000000  69.000000  69.000000  69.000000  69.000000\n",
       "b  -0.978394   0.722677  -0.987703  -0.049706   0.581475   0.014926  -1.384342\n",
       "d  -0.613648  -0.947451   0.997924  -0.289431  -0.286147  -1.451728  -1.323990\n",
       "e  -0.072348  -1.080879  -0.419201  -0.781780  -0.463377  -0.390385  -0.079013"
      ]
     },
     "execution_count": 43,
     "metadata": {},
     "output_type": "execute_result"
    }
   ],
   "source": [
    "df3"
   ]
  },
  {
   "cell_type": "code",
   "execution_count": 44,
   "id": "10010c7c",
   "metadata": {},
   "outputs": [
    {
     "data": {
      "text/html": [
       "<div>\n",
       "<style scoped>\n",
       "    .dataframe tbody tr th:only-of-type {\n",
       "        vertical-align: middle;\n",
       "    }\n",
       "\n",
       "    .dataframe tbody tr th {\n",
       "        vertical-align: top;\n",
       "    }\n",
       "\n",
       "    .dataframe thead th {\n",
       "        text-align: right;\n",
       "    }\n",
       "</style>\n",
       "<table border=\"1\" class=\"dataframe\">\n",
       "  <thead>\n",
       "    <tr style=\"text-align: right;\">\n",
       "      <th></th>\n",
       "      <th>6</th>\n",
       "      <th>7</th>\n",
       "      <th>8</th>\n",
       "      <th>9</th>\n",
       "      <th>10</th>\n",
       "      <th>11</th>\n",
       "      <th>12</th>\n",
       "    </tr>\n",
       "  </thead>\n",
       "  <tbody>\n",
       "    <tr>\n",
       "      <th>a</th>\n",
       "      <td>True</td>\n",
       "      <td>True</td>\n",
       "      <td>True</td>\n",
       "      <td>True</td>\n",
       "      <td>True</td>\n",
       "      <td>True</td>\n",
       "      <td>True</td>\n",
       "    </tr>\n",
       "    <tr>\n",
       "      <th>b</th>\n",
       "      <td>False</td>\n",
       "      <td>True</td>\n",
       "      <td>False</td>\n",
       "      <td>False</td>\n",
       "      <td>True</td>\n",
       "      <td>True</td>\n",
       "      <td>False</td>\n",
       "    </tr>\n",
       "    <tr>\n",
       "      <th>d</th>\n",
       "      <td>False</td>\n",
       "      <td>False</td>\n",
       "      <td>True</td>\n",
       "      <td>False</td>\n",
       "      <td>False</td>\n",
       "      <td>False</td>\n",
       "      <td>False</td>\n",
       "    </tr>\n",
       "    <tr>\n",
       "      <th>e</th>\n",
       "      <td>False</td>\n",
       "      <td>False</td>\n",
       "      <td>False</td>\n",
       "      <td>False</td>\n",
       "      <td>False</td>\n",
       "      <td>False</td>\n",
       "      <td>False</td>\n",
       "    </tr>\n",
       "  </tbody>\n",
       "</table>\n",
       "</div>"
      ],
      "text/plain": [
       "       6      7      8      9     10     11     12\n",
       "a   True   True   True   True   True   True   True\n",
       "b  False   True  False  False   True   True  False\n",
       "d  False  False   True  False  False  False  False\n",
       "e  False  False  False  False  False  False  False"
      ]
     },
     "execution_count": 44,
     "metadata": {},
     "output_type": "execute_result"
    }
   ],
   "source": [
    "df3>0"
   ]
  },
  {
   "cell_type": "code",
   "execution_count": 46,
   "id": "c97a3f49",
   "metadata": {},
   "outputs": [
    {
     "data": {
      "text/html": [
       "<div>\n",
       "<style scoped>\n",
       "    .dataframe tbody tr th:only-of-type {\n",
       "        vertical-align: middle;\n",
       "    }\n",
       "\n",
       "    .dataframe tbody tr th {\n",
       "        vertical-align: top;\n",
       "    }\n",
       "\n",
       "    .dataframe thead th {\n",
       "        text-align: right;\n",
       "    }\n",
       "</style>\n",
       "<table border=\"1\" class=\"dataframe\">\n",
       "  <thead>\n",
       "    <tr style=\"text-align: right;\">\n",
       "      <th></th>\n",
       "      <th>6</th>\n",
       "      <th>7</th>\n",
       "      <th>8</th>\n",
       "      <th>9</th>\n",
       "      <th>10</th>\n",
       "      <th>11</th>\n",
       "      <th>12</th>\n",
       "    </tr>\n",
       "  </thead>\n",
       "  <tbody>\n",
       "    <tr>\n",
       "      <th>a</th>\n",
       "      <td>69.0</td>\n",
       "      <td>69.000000</td>\n",
       "      <td>69.000000</td>\n",
       "      <td>69.0</td>\n",
       "      <td>69.000000</td>\n",
       "      <td>69.000000</td>\n",
       "      <td>69.0</td>\n",
       "    </tr>\n",
       "    <tr>\n",
       "      <th>b</th>\n",
       "      <td>NaN</td>\n",
       "      <td>0.722677</td>\n",
       "      <td>NaN</td>\n",
       "      <td>NaN</td>\n",
       "      <td>0.581475</td>\n",
       "      <td>0.014926</td>\n",
       "      <td>NaN</td>\n",
       "    </tr>\n",
       "    <tr>\n",
       "      <th>d</th>\n",
       "      <td>NaN</td>\n",
       "      <td>NaN</td>\n",
       "      <td>0.997924</td>\n",
       "      <td>NaN</td>\n",
       "      <td>NaN</td>\n",
       "      <td>NaN</td>\n",
       "      <td>NaN</td>\n",
       "    </tr>\n",
       "    <tr>\n",
       "      <th>e</th>\n",
       "      <td>NaN</td>\n",
       "      <td>NaN</td>\n",
       "      <td>NaN</td>\n",
       "      <td>NaN</td>\n",
       "      <td>NaN</td>\n",
       "      <td>NaN</td>\n",
       "      <td>NaN</td>\n",
       "    </tr>\n",
       "  </tbody>\n",
       "</table>\n",
       "</div>"
      ],
      "text/plain": [
       "      6          7          8     9         10         11    12\n",
       "a  69.0  69.000000  69.000000  69.0  69.000000  69.000000  69.0\n",
       "b   NaN   0.722677        NaN   NaN   0.581475   0.014926   NaN\n",
       "d   NaN        NaN   0.997924   NaN        NaN        NaN   NaN\n",
       "e   NaN        NaN        NaN   NaN        NaN        NaN   NaN"
      ]
     },
     "execution_count": 46,
     "metadata": {},
     "output_type": "execute_result"
    }
   ],
   "source": [
    "df3[df3>0] #False Nan"
   ]
  },
  {
   "cell_type": "code",
   "execution_count": 50,
   "id": "bd4c3f04",
   "metadata": {},
   "outputs": [
    {
     "name": "stdout",
     "output_type": "stream",
     "text": [
      "      6     7     8     9    10    11    12\n",
      "a  69.0  69.0  69.0  69.0  69.0  69.0  69.0\n"
     ]
    }
   ],
   "source": [
    "print(df3[df3['7']>60])"
   ]
  },
  {
   "cell_type": "code",
   "execution_count": 51,
   "id": "0a5d5bd7",
   "metadata": {},
   "outputs": [
    {
     "data": {
      "text/html": [
       "<div>\n",
       "<style scoped>\n",
       "    .dataframe tbody tr th:only-of-type {\n",
       "        vertical-align: middle;\n",
       "    }\n",
       "\n",
       "    .dataframe tbody tr th {\n",
       "        vertical-align: top;\n",
       "    }\n",
       "\n",
       "    .dataframe thead th {\n",
       "        text-align: right;\n",
       "    }\n",
       "</style>\n",
       "<table border=\"1\" class=\"dataframe\">\n",
       "  <thead>\n",
       "    <tr style=\"text-align: right;\">\n",
       "      <th></th>\n",
       "      <th>7</th>\n",
       "      <th>8</th>\n",
       "    </tr>\n",
       "  </thead>\n",
       "  <tbody>\n",
       "    <tr>\n",
       "      <th>a</th>\n",
       "      <td>69.000000</td>\n",
       "      <td>69.000000</td>\n",
       "    </tr>\n",
       "    <tr>\n",
       "      <th>b</th>\n",
       "      <td>0.722677</td>\n",
       "      <td>-0.987703</td>\n",
       "    </tr>\n",
       "  </tbody>\n",
       "</table>\n",
       "</div>"
      ],
      "text/plain": [
       "           7          8\n",
       "a  69.000000  69.000000\n",
       "b   0.722677  -0.987703"
      ]
     },
     "execution_count": 51,
     "metadata": {},
     "output_type": "execute_result"
    }
   ],
   "source": [
    "df3[df3['7']>0][['7','8']]"
   ]
  },
  {
   "cell_type": "code",
   "execution_count": 55,
   "id": "0c8f6981",
   "metadata": {},
   "outputs": [
    {
     "data": {
      "text/html": [
       "<div>\n",
       "<style scoped>\n",
       "    .dataframe tbody tr th:only-of-type {\n",
       "        vertical-align: middle;\n",
       "    }\n",
       "\n",
       "    .dataframe tbody tr th {\n",
       "        vertical-align: top;\n",
       "    }\n",
       "\n",
       "    .dataframe thead th {\n",
       "        text-align: right;\n",
       "    }\n",
       "</style>\n",
       "<table border=\"1\" class=\"dataframe\">\n",
       "  <thead>\n",
       "    <tr style=\"text-align: right;\">\n",
       "      <th></th>\n",
       "      <th>6</th>\n",
       "      <th>7</th>\n",
       "      <th>8</th>\n",
       "      <th>9</th>\n",
       "      <th>10</th>\n",
       "      <th>11</th>\n",
       "      <th>12</th>\n",
       "    </tr>\n",
       "  </thead>\n",
       "  <tbody>\n",
       "    <tr>\n",
       "      <th>a</th>\n",
       "      <td>69.000000</td>\n",
       "      <td>69.000000</td>\n",
       "      <td>69.000000</td>\n",
       "      <td>69.000000</td>\n",
       "      <td>69.000000</td>\n",
       "      <td>69.000000</td>\n",
       "      <td>69.000000</td>\n",
       "    </tr>\n",
       "    <tr>\n",
       "      <th>b</th>\n",
       "      <td>-0.978394</td>\n",
       "      <td>0.722677</td>\n",
       "      <td>-0.987703</td>\n",
       "      <td>-0.049706</td>\n",
       "      <td>0.581475</td>\n",
       "      <td>0.014926</td>\n",
       "      <td>-1.384342</td>\n",
       "    </tr>\n",
       "  </tbody>\n",
       "</table>\n",
       "</div>"
      ],
      "text/plain": [
       "           6          7          8          9         10         11         12\n",
       "a  69.000000  69.000000  69.000000  69.000000  69.000000  69.000000  69.000000\n",
       "b  -0.978394   0.722677  -0.987703  -0.049706   0.581475   0.014926  -1.384342"
      ]
     },
     "execution_count": 55,
     "metadata": {},
     "output_type": "execute_result"
    }
   ],
   "source": [
    "df3[(df3['11']>0) & (df3['7']>0)]"
   ]
  },
  {
   "cell_type": "code",
   "execution_count": 2,
   "id": "2b254b23",
   "metadata": {},
   "outputs": [],
   "source": [
    "#CSV file => Each row is separated by commas, enter means next row."
   ]
  },
  {
   "cell_type": "code",
   "execution_count": 5,
   "id": "f2c21338",
   "metadata": {},
   "outputs": [],
   "source": [
    "#df1=pd.read_csv(or excel)(<any csv file>)"
   ]
  },
  {
   "cell_type": "code",
   "execution_count": 8,
   "id": "ac1aaaba",
   "metadata": {},
   "outputs": [],
   "source": [
    "#df1[valuenew]=df1[existingval1]+df1[existingval2]\n",
    "#df1.to_csv('abc',index=False)"
   ]
  },
  {
   "cell_type": "code",
   "execution_count": 11,
   "id": "c223e236",
   "metadata": {},
   "outputs": [
    {
     "data": {
      "text/html": [
       "<div>\n",
       "<style scoped>\n",
       "    .dataframe tbody tr th:only-of-type {\n",
       "        vertical-align: middle;\n",
       "    }\n",
       "\n",
       "    .dataframe tbody tr th {\n",
       "        vertical-align: top;\n",
       "    }\n",
       "\n",
       "    .dataframe thead th {\n",
       "        text-align: right;\n",
       "    }\n",
       "</style>\n",
       "<table border=\"1\" class=\"dataframe\">\n",
       "  <thead>\n",
       "    <tr style=\"text-align: right;\">\n",
       "      <th></th>\n",
       "      <th>A</th>\n",
       "      <th>B</th>\n",
       "    </tr>\n",
       "  </thead>\n",
       "  <tbody>\n",
       "    <tr>\n",
       "      <th>0</th>\n",
       "      <td>4</td>\n",
       "      <td>7</td>\n",
       "    </tr>\n",
       "    <tr>\n",
       "      <th>1</th>\n",
       "      <td>5</td>\n",
       "      <td>8</td>\n",
       "    </tr>\n",
       "    <tr>\n",
       "      <th>2</th>\n",
       "      <td>6</td>\n",
       "      <td>9</td>\n",
       "    </tr>\n",
       "  </tbody>\n",
       "</table>\n",
       "</div>"
      ],
      "text/plain": [
       "   A  B\n",
       "0  4  7\n",
       "1  5  8\n",
       "2  6  9"
      ]
     },
     "execution_count": 11,
     "metadata": {},
     "output_type": "execute_result"
    }
   ],
   "source": [
    "df4=pd.DataFrame({'A':[4,5,6],'B':[7,8,9]})\n",
    "df4"
   ]
  },
  {
   "cell_type": "code",
   "execution_count": 22,
   "id": "abf65cfa",
   "metadata": {},
   "outputs": [
    {
     "data": {
      "text/html": [
       "<div>\n",
       "<style scoped>\n",
       "    .dataframe tbody tr th:only-of-type {\n",
       "        vertical-align: middle;\n",
       "    }\n",
       "\n",
       "    .dataframe tbody tr th {\n",
       "        vertical-align: top;\n",
       "    }\n",
       "\n",
       "    .dataframe thead th {\n",
       "        text-align: right;\n",
       "    }\n",
       "</style>\n",
       "<table border=\"1\" class=\"dataframe\">\n",
       "  <thead>\n",
       "    <tr style=\"text-align: right;\">\n",
       "      <th></th>\n",
       "      <th>A</th>\n",
       "      <th>B</th>\n",
       "      <th>C</th>\n",
       "    </tr>\n",
       "  </thead>\n",
       "  <tbody>\n",
       "    <tr>\n",
       "      <th>0</th>\n",
       "      <td>1</td>\n",
       "      <td>2.0</td>\n",
       "      <td>5.0</td>\n",
       "    </tr>\n",
       "    <tr>\n",
       "      <th>1</th>\n",
       "      <td>7</td>\n",
       "      <td>NaN</td>\n",
       "      <td>NaN</td>\n",
       "    </tr>\n",
       "    <tr>\n",
       "      <th>2</th>\n",
       "      <td>9</td>\n",
       "      <td>4.0</td>\n",
       "      <td>NaN</td>\n",
       "    </tr>\n",
       "  </tbody>\n",
       "</table>\n",
       "</div>"
      ],
      "text/plain": [
       "   A    B    C\n",
       "0  1  2.0  5.0\n",
       "1  7  NaN  NaN\n",
       "2  9  4.0  NaN"
      ]
     },
     "execution_count": 22,
     "metadata": {},
     "output_type": "execute_result"
    }
   ],
   "source": [
    "df5=pd.DataFrame({'A':[1,7,9],'B':[2,np.nan,4],'C':[5,np.nan,np.nan]})\n",
    "df5"
   ]
  },
  {
   "cell_type": "code",
   "execution_count": 23,
   "id": "831b8e81",
   "metadata": {},
   "outputs": [
    {
     "data": {
      "text/html": [
       "<div>\n",
       "<style scoped>\n",
       "    .dataframe tbody tr th:only-of-type {\n",
       "        vertical-align: middle;\n",
       "    }\n",
       "\n",
       "    .dataframe tbody tr th {\n",
       "        vertical-align: top;\n",
       "    }\n",
       "\n",
       "    .dataframe thead th {\n",
       "        text-align: right;\n",
       "    }\n",
       "</style>\n",
       "<table border=\"1\" class=\"dataframe\">\n",
       "  <thead>\n",
       "    <tr style=\"text-align: right;\">\n",
       "      <th></th>\n",
       "      <th>A</th>\n",
       "      <th>B</th>\n",
       "      <th>C</th>\n",
       "    </tr>\n",
       "  </thead>\n",
       "  <tbody>\n",
       "    <tr>\n",
       "      <th>0</th>\n",
       "      <td>1</td>\n",
       "      <td>2.0</td>\n",
       "      <td>5.0</td>\n",
       "    </tr>\n",
       "  </tbody>\n",
       "</table>\n",
       "</div>"
      ],
      "text/plain": [
       "   A    B    C\n",
       "0  1  2.0  5.0"
      ]
     },
     "execution_count": 23,
     "metadata": {},
     "output_type": "execute_result"
    }
   ],
   "source": [
    "df5.dropna() #removes all the rows which have the NAN values."
   ]
  },
  {
   "cell_type": "code",
   "execution_count": 24,
   "id": "483854d4",
   "metadata": {},
   "outputs": [
    {
     "data": {
      "text/html": [
       "<div>\n",
       "<style scoped>\n",
       "    .dataframe tbody tr th:only-of-type {\n",
       "        vertical-align: middle;\n",
       "    }\n",
       "\n",
       "    .dataframe tbody tr th {\n",
       "        vertical-align: top;\n",
       "    }\n",
       "\n",
       "    .dataframe thead th {\n",
       "        text-align: right;\n",
       "    }\n",
       "</style>\n",
       "<table border=\"1\" class=\"dataframe\">\n",
       "  <thead>\n",
       "    <tr style=\"text-align: right;\">\n",
       "      <th></th>\n",
       "      <th>A</th>\n",
       "    </tr>\n",
       "  </thead>\n",
       "  <tbody>\n",
       "    <tr>\n",
       "      <th>0</th>\n",
       "      <td>1</td>\n",
       "    </tr>\n",
       "    <tr>\n",
       "      <th>1</th>\n",
       "      <td>7</td>\n",
       "    </tr>\n",
       "    <tr>\n",
       "      <th>2</th>\n",
       "      <td>9</td>\n",
       "    </tr>\n",
       "  </tbody>\n",
       "</table>\n",
       "</div>"
      ],
      "text/plain": [
       "   A\n",
       "0  1\n",
       "1  7\n",
       "2  9"
      ]
     },
     "execution_count": 24,
     "metadata": {},
     "output_type": "execute_result"
    }
   ],
   "source": [
    "df5.dropna(axis=1) #removes all column which have the nan values"
   ]
  },
  {
   "cell_type": "code",
   "execution_count": 27,
   "id": "0d02c6f2",
   "metadata": {},
   "outputs": [
    {
     "data": {
      "text/html": [
       "<div>\n",
       "<style scoped>\n",
       "    .dataframe tbody tr th:only-of-type {\n",
       "        vertical-align: middle;\n",
       "    }\n",
       "\n",
       "    .dataframe tbody tr th {\n",
       "        vertical-align: top;\n",
       "    }\n",
       "\n",
       "    .dataframe thead th {\n",
       "        text-align: right;\n",
       "    }\n",
       "</style>\n",
       "<table border=\"1\" class=\"dataframe\">\n",
       "  <thead>\n",
       "    <tr style=\"text-align: right;\">\n",
       "      <th></th>\n",
       "      <th>A</th>\n",
       "      <th>B</th>\n",
       "      <th>C</th>\n",
       "    </tr>\n",
       "  </thead>\n",
       "  <tbody>\n",
       "    <tr>\n",
       "      <th>0</th>\n",
       "      <td>1</td>\n",
       "      <td>2.0</td>\n",
       "      <td>5.0</td>\n",
       "    </tr>\n",
       "    <tr>\n",
       "      <th>2</th>\n",
       "      <td>9</td>\n",
       "      <td>4.0</td>\n",
       "      <td>NaN</td>\n",
       "    </tr>\n",
       "  </tbody>\n",
       "</table>\n",
       "</div>"
      ],
      "text/plain": [
       "   A    B    C\n",
       "0  1  2.0  5.0\n",
       "2  9  4.0  NaN"
      ]
     },
     "execution_count": 27,
     "metadata": {},
     "output_type": "execute_result"
    }
   ],
   "source": [
    "df5.dropna(thresh=2) #returns rows with atleast 1 non-nan values #axis=1 for columns"
   ]
  },
  {
   "cell_type": "code",
   "execution_count": 28,
   "id": "b9722199",
   "metadata": {},
   "outputs": [
    {
     "data": {
      "text/html": [
       "<div>\n",
       "<style scoped>\n",
       "    .dataframe tbody tr th:only-of-type {\n",
       "        vertical-align: middle;\n",
       "    }\n",
       "\n",
       "    .dataframe tbody tr th {\n",
       "        vertical-align: top;\n",
       "    }\n",
       "\n",
       "    .dataframe thead th {\n",
       "        text-align: right;\n",
       "    }\n",
       "</style>\n",
       "<table border=\"1\" class=\"dataframe\">\n",
       "  <thead>\n",
       "    <tr style=\"text-align: right;\">\n",
       "      <th></th>\n",
       "      <th>A</th>\n",
       "      <th>B</th>\n",
       "      <th>C</th>\n",
       "    </tr>\n",
       "  </thead>\n",
       "  <tbody>\n",
       "    <tr>\n",
       "      <th>0</th>\n",
       "      <td>1</td>\n",
       "      <td>2.0</td>\n",
       "      <td>5.0</td>\n",
       "    </tr>\n",
       "    <tr>\n",
       "      <th>1</th>\n",
       "      <td>7</td>\n",
       "      <td>6</td>\n",
       "      <td>6</td>\n",
       "    </tr>\n",
       "    <tr>\n",
       "      <th>2</th>\n",
       "      <td>9</td>\n",
       "      <td>4.0</td>\n",
       "      <td>6</td>\n",
       "    </tr>\n",
       "  </tbody>\n",
       "</table>\n",
       "</div>"
      ],
      "text/plain": [
       "   A    B    C\n",
       "0  1  2.0  5.0\n",
       "1  7    6    6\n",
       "2  9  4.0    6"
      ]
     },
     "execution_count": 28,
     "metadata": {},
     "output_type": "execute_result"
    }
   ],
   "source": [
    "df5.fillna(value='6') #fills the nan with specified  values"
   ]
  },
  {
   "cell_type": "code",
   "execution_count": 29,
   "id": "f252ec42",
   "metadata": {},
   "outputs": [
    {
     "data": {
      "text/html": [
       "<div>\n",
       "<style scoped>\n",
       "    .dataframe tbody tr th:only-of-type {\n",
       "        vertical-align: middle;\n",
       "    }\n",
       "\n",
       "    .dataframe tbody tr th {\n",
       "        vertical-align: top;\n",
       "    }\n",
       "\n",
       "    .dataframe thead th {\n",
       "        text-align: right;\n",
       "    }\n",
       "</style>\n",
       "<table border=\"1\" class=\"dataframe\">\n",
       "  <thead>\n",
       "    <tr style=\"text-align: right;\">\n",
       "      <th></th>\n",
       "      <th>A</th>\n",
       "      <th>B</th>\n",
       "      <th>C</th>\n",
       "    </tr>\n",
       "  </thead>\n",
       "  <tbody>\n",
       "    <tr>\n",
       "      <th>0</th>\n",
       "      <td>1</td>\n",
       "      <td>2.0</td>\n",
       "      <td>5.0</td>\n",
       "    </tr>\n",
       "    <tr>\n",
       "      <th>1</th>\n",
       "      <td>7</td>\n",
       "      <td>NaN</td>\n",
       "      <td>NaN</td>\n",
       "    </tr>\n",
       "    <tr>\n",
       "      <th>2</th>\n",
       "      <td>9</td>\n",
       "      <td>4.0</td>\n",
       "      <td>NaN</td>\n",
       "    </tr>\n",
       "  </tbody>\n",
       "</table>\n",
       "</div>"
      ],
      "text/plain": [
       "   A    B    C\n",
       "0  1  2.0  5.0\n",
       "1  7  NaN  NaN\n",
       "2  9  4.0  NaN"
      ]
     },
     "execution_count": 29,
     "metadata": {},
     "output_type": "execute_result"
    }
   ],
   "source": [
    "df5"
   ]
  },
  {
   "cell_type": "code",
   "execution_count": 32,
   "id": "f5654a6c",
   "metadata": {},
   "outputs": [
    {
     "data": {
      "text/html": [
       "<div>\n",
       "<style scoped>\n",
       "    .dataframe tbody tr th:only-of-type {\n",
       "        vertical-align: middle;\n",
       "    }\n",
       "\n",
       "    .dataframe tbody tr th {\n",
       "        vertical-align: top;\n",
       "    }\n",
       "\n",
       "    .dataframe thead th {\n",
       "        text-align: right;\n",
       "    }\n",
       "</style>\n",
       "<table border=\"1\" class=\"dataframe\">\n",
       "  <thead>\n",
       "    <tr style=\"text-align: right;\">\n",
       "      <th></th>\n",
       "      <th>A</th>\n",
       "      <th>B</th>\n",
       "      <th>C</th>\n",
       "    </tr>\n",
       "  </thead>\n",
       "  <tbody>\n",
       "    <tr>\n",
       "      <th>0</th>\n",
       "      <td>1</td>\n",
       "      <td>2.0</td>\n",
       "      <td>5.0</td>\n",
       "    </tr>\n",
       "    <tr>\n",
       "      <th>1</th>\n",
       "      <td>7</td>\n",
       "      <td>NaN</td>\n",
       "      <td>NaN</td>\n",
       "    </tr>\n",
       "    <tr>\n",
       "      <th>2</th>\n",
       "      <td>9</td>\n",
       "      <td>4.0</td>\n",
       "      <td>NaN</td>\n",
       "    </tr>\n",
       "  </tbody>\n",
       "</table>\n",
       "</div>"
      ],
      "text/plain": [
       "   A    B    C\n",
       "0  1  2.0  5.0\n",
       "1  7  NaN  NaN\n",
       "2  9  4.0  NaN"
      ]
     },
     "execution_count": 32,
     "metadata": {},
     "output_type": "execute_result"
    }
   ],
   "source": [
    "df5['B'].fillna(df5['A'].mean())"
   ]
  },
  {
   "cell_type": "code",
   "execution_count": 34,
   "id": "c9f59dc1",
   "metadata": {},
   "outputs": [
    {
     "data": {
      "text/plain": [
       "<AxesSubplot:>"
      ]
     },
     "execution_count": 34,
     "metadata": {},
     "output_type": "execute_result"
    },
    {
     "data": {
      "image/png": "[encoded data removed]",
      "text/plain": [
       "<Figure size 432x288 with 1 Axes>"
      ]
     },
     "metadata": {
      "needs_background": "light"
     },
     "output_type": "display_data"
    }
   ],
   "source": [
    "df5['A'].plot()"
   ]
  },
  {
   "cell_type": "code",
   "execution_count": null,
   "id": "a763a5b3",
   "metadata": {},
   "outputs": [],
   "source": []
  }
 ],
 "metadata": {
  "kernelspec": {
   "display_name": "Python 3 (ipykernel)",
   "language": "python",
   "name": "python3"
  },
  "language_info": {
   "codemirror_mode": {
    "name": "ipython",
    "version": 3
   },
   "file_extension": ".py",
   "mimetype": "text/x-python",
   "name": "python",
   "nbconvert_exporter": "python",
   "pygments_lexer": "ipython3",
   "version": "3.9.12"
  }
 },
 "nbformat": 4,
 "nbformat_minor": 5
}
